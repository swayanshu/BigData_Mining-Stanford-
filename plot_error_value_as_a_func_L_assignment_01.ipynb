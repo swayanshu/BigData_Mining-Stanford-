{
 "cells": [
  {
   "cell_type": "code",
   "execution_count": 2,
   "metadata": {},
   "outputs": [],
   "source": [
    "import pandas as pd\n",
    "import seaborn as sns"
   ]
  },
  {
   "cell_type": "code",
   "execution_count": 3,
   "metadata": {},
   "outputs": [],
   "source": [
    "# examples\n",
    "error_results = [\n",
    "    {\n",
    "        \"k\":24,\n",
    "        \"L\":\"10\",\n",
    "        \"error\":51687\n",
    "    },\n",
    "    {\n",
    "        \"k\":24,\n",
    "        \"L\":\"12\",\n",
    "        \"error\":40302\n",
    "    },\n",
    "    {\n",
    "        \"k\":24,\n",
    "        \"L\":\"14\",\n",
    "        \"error\":38296\n",
    "    },\n",
    "    {\n",
    "        \"k\":24,\n",
    "        \"L\":\"16\",\n",
    "        \"error\":36440\n",
    "    },\n",
    "    {\n",
    "        \"k\":24,\n",
    "        \"L\":\"18\",\n",
    "        \"error\":41437\n",
    "    },\n",
    "    {\n",
    "        \"k\":24,\n",
    "        \"L\":\"20\",\n",
    "        \"error\":37589\n",
    "    }\n",
    "    \n",
    "]"
   ]
  },
  {
   "cell_type": "code",
   "execution_count": 4,
   "metadata": {},
   "outputs": [],
   "source": [
    "df_to_plot = pd.DataFrame(error_results)"
   ]
  },
  {
   "cell_type": "code",
   "execution_count": 5,
   "metadata": {},
   "outputs": [
    {
     "data": {
      "text/plain": [
       "<seaborn.axisgrid.FacetGrid at 0x10981c128>"
      ]
     },
     "execution_count": 5,
     "metadata": {},
     "output_type": "execute_result"
    },
    {
     "data": {
      "image/png": "[encoded data removed]",
      "text/plain": [
       "<Figure size 408.75x360 with 1 Axes>"
      ]
     },
     "metadata": {
      "needs_background": "light"
     },
     "output_type": "display_data"
    }
   ],
   "source": [
    "sns.catplot(x=\"k\",y=\"error\",hue=\"L\",kind=\"bar\",data=df_to_plot)"
   ]
  },
  {
   "cell_type": "code",
   "execution_count": null,
   "metadata": {},
   "outputs": [],
   "source": []
  }
 ],
 "metadata": {
  "kernelspec": {
   "display_name": "Python 3",
   "language": "python",
   "name": "python3"
  },
  "language_info": {
   "codemirror_mode": {
    "name": "ipython",
    "version": 3
   },
   "file_extension": ".py",
   "mimetype": "text/x-python",
   "name": "python",
   "nbconvert_exporter": "python",
   "pygments_lexer": "ipython3",
   "version": "3.7.3"
  }
 },
 "nbformat": 4,
 "nbformat_minor": 2
}
